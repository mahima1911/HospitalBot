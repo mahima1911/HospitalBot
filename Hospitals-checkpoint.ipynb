{
 "cells": [
  {
   "cell_type": "code",
   "execution_count": 1,
   "metadata": {},
   "outputs": [],
   "source": [
    "import tweepy\n",
    "import pandas as pd\n",
    "import time\n",
    "import re\n",
    "import os"
   ]
  },
  {
   "cell_type": "code",
   "execution_count": 2,
   "metadata": {},
   "outputs": [],
   "source": [
    "CONSUMER_KEY = '7NId71jMVK1ZLQ5pPp3wIK6YL'\n",
    "CONSUMER_SECRET = '7FsNm7Q7hz0LuAbs1AsIpaWlibVxur9suInSKbuu9Ilbu88DDr'\n",
    "ACCESS_KEY = '1244214884683755521-fnMyyltyVhp5Sp0EH0waIRUKodj3rT'\n",
    "ACCESS_SECRET = 'uXAuA098t9zxPCYwaodmfrymvBqXZFcLFSAwUb5pmjNOw'\n",
    "path = os.getcwd()\n",
    "hospitals = pd.read_csv(path + '\\devfest.csv')\n",
    "covid_hospitals = pd.read_csv(path + '\\ICMRTestingLabs.csv')"
   ]
  },
  {
   "cell_type": "code",
   "execution_count": 3,
   "metadata": {},
   "outputs": [],
   "source": [
    "auth=tweepy.OAuthHandler(CONSUMER_KEY, CONSUMER_SECRET)\n",
    "auth.set_access_token(ACCESS_KEY, ACCESS_SECRET)\n",
    "api = tweepy.API(auth, wait_on_rate_limit=True)\n",
    "\n",
    "def bot():\n",
    "    f=open(\"names.txt\",\"r\")\n",
    "    name = f.readline()\n",
    "    while name:\n",
    "        api.update_status(\"Hello {}! Nice to meet you.\".format(name.strip()))\n",
    "        name=f.readline()\n",
    "        time.sleep(30)\n",
    "    f.close()"
   ]
  },
  {
   "cell_type": "code",
   "execution_count": 4,
   "metadata": {},
   "outputs": [],
   "source": [
    "file = 'last_seen_id.txt'\n",
    "\n",
    "def retrieve_last_seen_id(file_name):\n",
    "    f_read = open(file_name, 'r')\n",
    "    last_seen_id = int(f_read.read().strip())\n",
    "    f_read.close()\n",
    "    return last_seen_id\n",
    "\n",
    "def store_last_seen_id(last_seen_id, file_name):\n",
    "    f_write = open(file_name, 'w')\n",
    "    f_write.write(str(last_seen_id))\n",
    "    f_write.close()\n",
    "    return"
   ]
  },
  {
   "cell_type": "code",
   "execution_count": 5,
   "metadata": {},
   "outputs": [
    {
     "name": "stdout",
     "output_type": "stream",
     "text": [
      "@GreetName find COVID testing hospitals in Tamil Nadu 1249633992174751744\n"
     ]
    }
   ],
   "source": [
    "mentions = api.mentions_timeline()\n",
    "print(mentions[0].text, mentions[0].id)\n",
    "store_last_seen_id(mentions[0].id, file)\n",
    "def find_hospitals(pincode):\n",
    "            pincode[0].strip()\n",
    "            hospital_area = pd.DataFrame()\n",
    "            hospital_area = hospitals[hospitals[\"Pincode\"] == pincode[0]]\n",
    "            hosp = hospital_area.reset_index()\n",
    "            hosp = hosp.drop(['index'], axis = 1)\n",
    "            hosp\n",
    "            total_rows=len(hosp.axes[0])\n",
    "            hosp.columns\n",
    "            name = hosp['Hospital_Name']\n",
    "            hosp.drop(labels=['Hospital_Name'], axis=1,inplace = True)\n",
    "            hosp.insert(0, 'Hospital_Name', name)\n",
    "            print(total_rows)\n",
    "            hosp\n",
    "            dict = {}\n",
    "            hosp_list = []\n",
    "            string = \"\"\n",
    "            dict = hosp.to_dict()\n",
    "            print(dict.keys())\n",
    "            for i in range(total_rows):\n",
    "                dict['Hospital_Name'][i] = dict['Hospital_Name'][i] + ', '\n",
    "                dict['State'][i] = dict['State'][i] + ', '\n",
    "                dict['District'][i] = dict['District'][i] + ', '\n",
    "                dict['Location'][i] = dict['Location'][i] + ' '\n",
    "\n",
    "            hosp_list = []\n",
    "            for i in range(total_rows):\n",
    "                string = ''\n",
    "                for j in dict.keys():\n",
    "                    string = string + dict[j][i]\n",
    "                hosp_list.append(string)\n",
    "            return(hosp_list, total_rows)\n"
   ]
  },
  {
   "cell_type": "code",
   "execution_count": null,
   "metadata": {},
   "outputs": [],
   "source": []
  },
  {
   "cell_type": "code",
   "execution_count": 6,
   "metadata": {},
   "outputs": [],
   "source": [
    "cities = []\n",
    "cities = covid_hospitals.city.unique()\n",
    "states = covid_hospitals.state.unique()\n",
    "def covid_hospitals_list(state):\n",
    "    covid_list = pd.DataFrame()\n",
    "    covid_list = covid_hospitals[covid_hospitals['state'] == state]\n",
    "    total1 = len(covid_list.axes[0])\n",
    "    covid_list\n",
    "    covid_list = covid_list.reset_index()\n",
    "    covid_list = covid_list.drop(['index'], axis = 1)\n",
    "    covid_list.columns\n",
    "    pincode = covid_list['pincode']\n",
    "    lab = covid_list['lab']\n",
    "    hosp_type = covid_list['type']\n",
    "    state = covid_list['state']\n",
    "    city = covid_list['city']\n",
    "    covid_list.drop(['pincode','type', 'lab','state','city'], axis = 1, inplace = True)\n",
    "    #covid_list['pincode'] = pincode\n",
    "    #covid_list['type'] = hosp_type\n",
    "    covid_list\n",
    "    dict = {}\n",
    "    dict = covid_list.to_dict()\n",
    "    hosp_list = []\n",
    "    for i in range(total1):\n",
    "        string = ''\n",
    "        for j in dict.keys():\n",
    "            string = string + str(dict[j][i])\n",
    "        hosp_list.append(string)\n",
    "    return(hosp_list, total1)"
   ]
  },
  {
   "cell_type": "code",
   "execution_count": null,
   "metadata": {},
   "outputs": [],
   "source": [
    "def general_hospitals()\n"
   ]
  },
  {
   "cell_type": "code",
   "execution_count": 8,
   "metadata": {},
   "outputs": [
    {
     "name": "stdout",
     "output_type": "stream",
     "text": [
      "retrieving and replying to tweets...\n",
      "COVID tweet found!\n"
     ]
    },
    {
     "ename": "UnboundLocalError",
     "evalue": "local variable 'total_covid' referenced before assignment",
     "output_type": "error",
     "traceback": [
      "\u001b[1;31m---------------------------------------------------------------------------\u001b[0m",
      "\u001b[1;31mUnboundLocalError\u001b[0m                         Traceback (most recent call last)",
      "\u001b[1;32m<ipython-input-8-1454fc799dfd>\u001b[0m in \u001b[0;36m<module>\u001b[1;34m\u001b[0m\n\u001b[0;32m     39\u001b[0m         \u001b[0mstore_last_seen_id\u001b[0m\u001b[1;33m(\u001b[0m\u001b[0mlast_seen_id\u001b[0m\u001b[1;33m,\u001b[0m \u001b[0mfile\u001b[0m\u001b[1;33m)\u001b[0m\u001b[1;33m\u001b[0m\u001b[1;33m\u001b[0m\u001b[0m\n\u001b[0;32m     40\u001b[0m \u001b[1;32mwhile\u001b[0m \u001b[1;32mTrue\u001b[0m\u001b[1;33m:\u001b[0m\u001b[1;33m\u001b[0m\u001b[1;33m\u001b[0m\u001b[0m\n\u001b[1;32m---> 41\u001b[1;33m     \u001b[0mreply_to_tweets\u001b[0m\u001b[1;33m(\u001b[0m\u001b[1;33m)\u001b[0m\u001b[1;33m\u001b[0m\u001b[1;33m\u001b[0m\u001b[0m\n\u001b[0m\u001b[0;32m     42\u001b[0m     \u001b[0mtime\u001b[0m\u001b[1;33m.\u001b[0m\u001b[0msleep\u001b[0m\u001b[1;33m(\u001b[0m\u001b[1;36m1\u001b[0m\u001b[1;33m)\u001b[0m\u001b[1;33m\u001b[0m\u001b[1;33m\u001b[0m\u001b[0m\n",
      "\u001b[1;32m<ipython-input-8-1454fc799dfd>\u001b[0m in \u001b[0;36mreply_to_tweets\u001b[1;34m()\u001b[0m\n\u001b[0;32m     16\u001b[0m                     \u001b[0mhosp_list\u001b[0m\u001b[1;33m,\u001b[0m \u001b[0mtotal_covid\u001b[0m \u001b[1;33m=\u001b[0m \u001b[0mcovid_hospitals_list\u001b[0m\u001b[1;33m(\u001b[0m\u001b[0mi\u001b[0m\u001b[1;33m)\u001b[0m\u001b[1;33m\u001b[0m\u001b[1;33m\u001b[0m\u001b[0m\n\u001b[0;32m     17\u001b[0m                     \u001b[1;32mbreak\u001b[0m\u001b[1;33m\u001b[0m\u001b[1;33m\u001b[0m\u001b[0m\n\u001b[1;32m---> 18\u001b[1;33m             \u001b[1;32mif\u001b[0m \u001b[0mtotal_covid\u001b[0m \u001b[1;33m==\u001b[0m \u001b[1;36m0\u001b[0m\u001b[1;33m:\u001b[0m\u001b[1;33m\u001b[0m\u001b[1;33m\u001b[0m\u001b[0m\n\u001b[0m\u001b[0;32m     19\u001b[0m                  \u001b[0mapi\u001b[0m\u001b[1;33m.\u001b[0m\u001b[0mupdate_status\u001b[0m\u001b[1;33m(\u001b[0m\u001b[1;34m'@'\u001b[0m \u001b[1;33m+\u001b[0m \u001b[0mmention\u001b[0m\u001b[1;33m.\u001b[0m\u001b[0muser\u001b[0m\u001b[1;33m.\u001b[0m\u001b[0mscreen_name\u001b[0m \u001b[1;33m+\u001b[0m \u001b[1;34m' '\u001b[0m \u001b[1;33m+\u001b[0m \u001b[1;34m'Uh oh! Unforturnately, we could not find any hospitals in this pin code. Kindly enter another pincode.'\u001b[0m \u001b[1;33m,\u001b[0m \u001b[0mmention\u001b[0m\u001b[1;33m.\u001b[0m\u001b[0mid\u001b[0m\u001b[1;33m)\u001b[0m\u001b[1;33m\u001b[0m\u001b[1;33m\u001b[0m\u001b[0m\n\u001b[0;32m     20\u001b[0m             \u001b[1;32melse\u001b[0m\u001b[1;33m:\u001b[0m\u001b[1;33m\u001b[0m\u001b[1;33m\u001b[0m\u001b[0m\n",
      "\u001b[1;31mUnboundLocalError\u001b[0m: local variable 'total_covid' referenced before assignment"
     ]
    }
   ],
   "source": [
    "def reply_to_tweets():\n",
    "    print('retrieving and replying to tweets...', flush=True)\n",
    "    last_seen_id = retrieve_last_seen_id(file)\n",
    "    # NOTE: We need to use tweet_mode='extended' below to show\n",
    "    # all full tweets (with full_text). Without it, long tweets\n",
    "    # would be cut off.\n",
    "    mentions = api.mentions_timeline(last_seen_id, tweet_mode='extended')\n",
    "    for mention in reversed(mentions):\n",
    "        \n",
    "        \n",
    "        if 'corona' in mention.full_text.lower() or 'covid' in mention.full_text.lower():\n",
    "            print(\"COVID tweet found!\")\n",
    "            total_covid = 0\n",
    "            for i in states:\n",
    "                if i in mention.full_text:\n",
    "                    hosp_list, total_covid = covid_hospitals_list(i)\n",
    "                    break\n",
    "            if total_covid == 0:\n",
    "                 api.update_status('@' + mention.user.screen_name + ' ' + 'Uh oh! Unforturnately, we could not find any hospitals in this pin code. Kindly enter another pincode.' , mention.id)\n",
    "            else:\n",
    "                for i in range(total_covid):\n",
    "                    api.update_status('@' + mention.user.screen_name + ' ' + hosp_list[i] , mention.id)\n",
    "                    time.sleep(1)\n",
    "            \n",
    "        else:\n",
    "            pin_code = re.findall(r' (\\d{6})', mention.full_text)\n",
    "            print(\"Found Tweet!\")\n",
    "            if len(pin_code) != 0:\n",
    "                hosp_list, total = find_hospitals(pin_code)\n",
    "                if total == 0:\n",
    "                     api.update_status('@' + mention.user.screen_name + ' ' + 'Uh oh! Unforturnately, we could not find any hospitals in this pin code. Kindly enter another pincode.' , mention.id)\n",
    "                else:\n",
    "                    for i in range(total):\n",
    "                        api.update_status('@' + mention.user.screen_name + ' ' + hosp_list[i] , mention.id)\n",
    "                        time.sleep(1)\n",
    "            \n",
    "        print(str(mention.id) + ' - ' + mention.full_text, flush=True)\n",
    "        last_seen_id = mention.id\n",
    "        store_last_seen_id(last_seen_id, file)\n",
    "while True:\n",
    "    reply_to_tweets()\n",
    "    time.sleep(1)\n"
   ]
  },
  {
   "cell_type": "code",
   "execution_count": null,
   "metadata": {},
   "outputs": [],
   "source": []
  },
  {
   "cell_type": "code",
   "execution_count": null,
   "metadata": {},
   "outputs": [],
   "source": [
    "sample_tweet = \"@GreetName #findHospitals 600006\"\n"
   ]
  },
  {
   "cell_type": "code",
   "execution_count": 9,
   "metadata": {},
   "outputs": [
    {
     "name": "stdout",
     "output_type": "stream",
     "text": [
      "['600006']\n"
     ]
    }
   ],
   "source": [
    "pincode = re.findall(r' (\\d{6})', sample_tweet)\n",
    "print(pincode)"
   ]
  },
  {
   "cell_type": "code",
   "execution_count": 69,
   "metadata": {},
   "outputs": [
    {
     "name": "stdout",
     "output_type": "stream",
     "text": [
      "14\n",
      "dict_keys(['Hospital_Name', 'Location', 'State', 'District', 'Pincode'])\n",
      "['Apollo Hospitals, 21, Greams Lane, Off. Greams Road, Tamil Nadu, Chennai, 600006', 'Bharath Hospital, 72, I Main Road,Naganallur. Tamil Nadu, Chennai, 600006', 'Dr.Meenakshi Dhamija, Ehrlich Laboratory, Kothi Apartments 1-D, 46 (New 14), College Road, Tamil Nadu, Chennai, 600006', 'Hillwoods Multidisciplinary Health Service, 8, 3Rd Street, Subba Rao Avenue Tamil Nadu, Chennai, 600006', 'Indian Hospitals, No. 1051, P.H.Road, Arumbakkam, Tamil Nadu, Chennai, 600006', 'Sankara Nethralaya, (A Unit Of Medical Research Foundation)41/18, College Road, Nungambakkam Tamil Nadu, Chennai, 600006', 'Sono Diagnostics, N0.76(Old No.143) Greams Road(OppositeBsnlteleshoppe) Tamil Nadu, Chennai, 600006', 'Sri Sagara Durga Medicals, Rakeshdhamija M.B.B.S 1-D,Kothi Apartments, Ground Floor 14,College Road Tamil Nadu, Chennai, 600006', 'Apollo Childrens Hospital, No.15, Thousand Lights, Shafee Mohammed Road Tamil Nadu, Chennai, 600006', 'Apollo Hospitals, Greams Lane, 21, Off Greams Road, Greams Lane Tamil Nadu, Chennai, 600006', 'Nungambakkam Dispensary CandB Block, Nungambakkam Dispensary CandB Block, 1st\\\\nFloor, Shastri Bhavan, Haddows Road Tamil Nadu, Chennai, 600006', 'Apollo Hospital, 21, Greams Road, Off.Greams Lane Tamil Nadu, Chennai, 600006', 'Apollo Hospitals, 22, Greams Road Tamil Nadu, Chennai, 600006', 'Apollo Hospital Enterprises Ltd, 21, Greams Road Tamil Nadu, Chennai, 600006']\n"
     ]
    }
   ],
   "source": [
    "pincode[0].strip()\n",
    "hospital_area = pd.DataFrame()\n",
    "hospital_area = hospitals[hospitals[\"Pincode\"] == pincode[0]]\n",
    "hosp = hospital_area.reset_index()\n",
    "\n",
    "hosp = hosp.drop(['index'], axis = 1)\n",
    "hosp\n",
    "total_rows=len(hosp.axes[0])\n",
    "hosp.columns\n",
    "name = hosp['Hospital_Name']\n",
    "hosp.drop(labels=['Hospital_Name','Address_Original_First_Line'], axis=1,inplace = True)\n",
    "hosp.insert(0, 'Hospital_Name', name)\n",
    "print(total_rows)\n",
    "hosp\n",
    "dict = {}\n",
    "hosp_list = []\n",
    "string = \"\"\n",
    "dict = hosp.to_dict()\n",
    "print(dict.keys())\n",
    "for i in range(14):\n",
    "    dict['Hospital_Name'][i] = dict['Hospital_Name'][i] + ', '\n",
    "    dict['State'][i] = dict['State'][i] + ', '\n",
    "    dict['District'][i] = dict['District'][i] + ', '\n",
    "    dict['Location'][i] = dict['Location'][i] + ' '\n",
    "\n",
    "hosp_list = []\n",
    "for i in range(14):\n",
    "    string = ''\n",
    "    for j in dict.keys():\n",
    "        string = string + dict[j][i]\n",
    "    hosp_list.append(string)\n",
    "print(hosp_list)\n"
   ]
  },
  {
   "cell_type": "code",
   "execution_count": 13,
   "metadata": {},
   "outputs": [
    {
     "ename": "AttributeError",
     "evalue": "'numpy.ndarray' object has no attribute 'lower'",
     "output_type": "error",
     "traceback": [
      "\u001b[1;31m---------------------------------------------------------------------------\u001b[0m",
      "\u001b[1;31mAttributeError\u001b[0m                            Traceback (most recent call last)",
      "\u001b[1;32m<ipython-input-13-5a77c0916b20>\u001b[0m in \u001b[0;36m<module>\u001b[1;34m\u001b[0m\n\u001b[0;32m      1\u001b[0m \u001b[0mstring\u001b[0m \u001b[1;33m=\u001b[0m \u001b[1;34m\" tamil nadu\"\u001b[0m\u001b[1;33m\u001b[0m\u001b[1;33m\u001b[0m\u001b[0m\n\u001b[1;32m----> 2\u001b[1;33m \u001b[1;32mfor\u001b[0m \u001b[0mi\u001b[0m \u001b[1;32min\u001b[0m \u001b[0mstates\u001b[0m\u001b[1;33m.\u001b[0m\u001b[0mlower\u001b[0m\u001b[1;33m(\u001b[0m\u001b[1;33m)\u001b[0m\u001b[1;33m:\u001b[0m\u001b[1;33m\u001b[0m\u001b[1;33m\u001b[0m\u001b[0m\n\u001b[0m\u001b[0;32m      3\u001b[0m     \u001b[1;32mif\u001b[0m \u001b[0mi\u001b[0m \u001b[1;32min\u001b[0m \u001b[0mstring\u001b[0m\u001b[1;33m:\u001b[0m\u001b[1;33m\u001b[0m\u001b[1;33m\u001b[0m\u001b[0m\n\u001b[0;32m      4\u001b[0m         \u001b[0mprint\u001b[0m\u001b[1;33m(\u001b[0m\u001b[0mi\u001b[0m\u001b[1;33m,\u001b[0m \u001b[1;34m\"l0l\"\u001b[0m\u001b[1;33m)\u001b[0m\u001b[1;33m\u001b[0m\u001b[1;33m\u001b[0m\u001b[0m\n\u001b[0;32m      5\u001b[0m         \u001b[1;32mbreak\u001b[0m\u001b[1;33m\u001b[0m\u001b[1;33m\u001b[0m\u001b[0m\n",
      "\u001b[1;31mAttributeError\u001b[0m: 'numpy.ndarray' object has no attribute 'lower'"
     ]
    }
   ],
   "source": [
    "string = \" tamil nadu\"\n",
    "for i in states.lower():\n",
    "    if i in string:\n",
    "        print(i, \"l0l\")\n",
    "        break"
   ]
  },
  {
   "cell_type": "code",
   "execution_count": null,
   "metadata": {},
   "outputs": [],
   "source": []
  }
 ],
 "metadata": {
  "kernelspec": {
   "display_name": "Python 3",
   "language": "python",
   "name": "python3"
  },
  "language_info": {
   "codemirror_mode": {
    "name": "ipython",
    "version": 3
   },
   "file_extension": ".py",
   "mimetype": "text/x-python",
   "name": "python",
   "nbconvert_exporter": "python",
   "pygments_lexer": "ipython3",
   "version": "3.7.2"
  }
 },
 "nbformat": 4,
 "nbformat_minor": 2
}
